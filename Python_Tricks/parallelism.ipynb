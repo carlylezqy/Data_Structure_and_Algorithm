{
 "cells": [
  {
   "cell_type": "code",
   "execution_count": 17,
   "metadata": {},
   "outputs": [
    {
     "name": "stdout",
     "output_type": "stream",
     "text": [
      "Hello, World!\n",
      "\n"
     ]
    }
   ],
   "source": [
    "import subprocess\n",
    "proc = subprocess.Popen(['echo', 'Hello, World!'], stdout=subprocess.PIPE)\n",
    "out, err = proc.communicate()\n",
    "print(out.decode('utf-8'))"
   ]
  },
  {
   "cell_type": "code",
   "execution_count": 26,
   "metadata": {},
   "outputs": [
    {
     "name": "stdout",
     "output_type": "stream",
     "text": [
      "waitting...\n",
      "waitting...\n",
      "waitting...\n",
      "waitting...\n",
      "waitting...\n",
      "waitting...\n",
      "waitting...\n",
      "waitting...\n",
      "waitting...\n",
      "Exit code 0\n",
      "\n"
     ]
    }
   ],
   "source": [
    "import subprocess\n",
    "proc = subprocess.Popen(['sleep', '0.001'], stdout=subprocess.PIPE)\n",
    "while proc.poll() is None:\n",
    "    print('waitting...')\n",
    "print('Exit code', proc.poll())\n",
    "out, err = proc.communicate()\n",
    "print(out.decode('utf-8'))"
   ]
  },
  {
   "cell_type": "code",
   "execution_count": 30,
   "metadata": {},
   "outputs": [
    {
     "name": "stdout",
     "output_type": "stream",
     "text": [
      "Took 0.5462527275085449 seconds\n"
     ]
    }
   ],
   "source": [
    "import time\n",
    "import subprocess\n",
    "\n",
    "def run_subprocess(period):\n",
    "    proc = subprocess.Popen(['sleep', str(period)], stdout=subprocess.PIPE)\n",
    "    return proc\n",
    "\n",
    "start = time.time()\n",
    "procs = [run_subprocess(0.5) for _ in range(10)]\n",
    "for proc in procs:\n",
    "    proc.wait()\n",
    "end = time.time()\n",
    "print('Took {} seconds'.format(end - start))\n"
   ]
  },
  {
   "cell_type": "code",
   "execution_count": null,
   "metadata": {},
   "outputs": [],
   "source": [
    "import time\n",
    "import subprocess\n",
    "\n",
    "def run_subprocess(period):\n",
    "    proc = subprocess.Popen(['sleep', str(period)], stdout=subprocess.PIPE)\n",
    "    return proc\n",
    "\n",
    "start = time.time()\n",
    "procs = [run_subprocess(0.5) for _ in range(10)]\n",
    "for proc in procs:\n",
    "    proc.wait()\n",
    "end = time.time()\n",
    "print('Took {} seconds'.format(end - start))\n"
   ]
  }
 ],
 "metadata": {
  "interpreter": {
   "hash": "2f2ab5a16004a9ed2171c4a96a5244028d02bb02c281617d3c2b6db182a5ac0e"
  },
  "kernelspec": {
   "display_name": "Python 3.9.7 64-bit ('pytorch': conda)",
   "language": "python",
   "name": "python3"
  },
  "language_info": {
   "codemirror_mode": {
    "name": "ipython",
    "version": 3
   },
   "file_extension": ".py",
   "mimetype": "text/x-python",
   "name": "python",
   "nbconvert_exporter": "python",
   "pygments_lexer": "ipython3",
   "version": "3.9.7"
  },
  "orig_nbformat": 4
 },
 "nbformat": 4,
 "nbformat_minor": 2
}
