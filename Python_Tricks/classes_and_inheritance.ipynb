{
 "cells": [
  {
   "cell_type": "code",
   "execution_count": null,
   "metadata": {},
   "outputs": [],
   "source": [
    "import collections\n",
    "Grade = collections.namedtuple('Grade', ('score', 'weight'))\n",
    "\n",
    "class Subject(object):\n",
    "    def __init__(self):\n",
    "        self._grades = []\n",
    "    \n",
    "    def report_grade(self, score, weight):\n",
    "        self._grades.append(Grade(score, weight))\n",
    "        "
   ]
  },
  {
   "cell_type": "code",
   "execution_count": 2,
   "metadata": {},
   "outputs": [
    {
     "name": "stdout",
     "output_type": "stream",
     "text": [
      "['A', 'AB', 'ABC', 'ABCD', 'ABCDE']\n"
     ]
    }
   ],
   "source": [
    "names = ['ABCDE', 'ABCD', 'ABC', 'AB', 'A']\n",
    "names.sort(key=lambda name: len(name))\n",
    "print(names)"
   ]
  },
  {
   "cell_type": "code",
   "execution_count": 6,
   "metadata": {},
   "outputs": [
    {
     "name": "stdout",
     "output_type": "stream",
     "text": [
      "hello\n"
     ]
    }
   ],
   "source": [
    "class InputData(object):\n",
    "    def read(self):\n",
    "        raise NotImplementedError\n",
    "\n",
    "class PathInputData(InputData):\n",
    "    def __init__(self, path):\n",
    "        \n",
    "        self.path = path\n",
    "        \n",
    "    def read(self):\n",
    "        return open(self.path).read()\n",
    "\n",
    "txt = PathInputData('1.txt').read()\n",
    "print(txt)"
   ]
  },
  {
   "cell_type": "code",
   "execution_count": 7,
   "metadata": {},
   "outputs": [
    {
     "name": "stdout",
     "output_type": "stream",
     "text": [
      "func2\n",
      "1\n",
      "foo\n"
     ]
    }
   ],
   "source": [
    "class A(object):\n",
    "    bar = 1\n",
    "    def func1(self):  \n",
    "        print ('foo') \n",
    "    @classmethod\n",
    "    def func2(cls):\n",
    "        print ('func2')\n",
    "        print (cls.bar)\n",
    "        cls().func1()   # 调用 foo 方法\n",
    " \n",
    "A.func2()               # 不需要实例化"
   ]
  },
  {
   "cell_type": "code",
   "execution_count": 10,
   "metadata": {},
   "outputs": [
    {
     "name": "stdout",
     "output_type": "stream",
     "text": [
      "basic ok\n",
      "intermediate ok\n"
     ]
    }
   ],
   "source": [
    "class Basic(object):\n",
    "    def __init__(self):\n",
    "        print(\"basic ok\")\n",
    "\n",
    "class Intermediate(Basic):\n",
    "    def __init__(self):\n",
    "        super(Intermediate, self).__init__()\n",
    "        print(\"intermediate ok\")\n",
    "\n",
    "i = Intermediate()"
   ]
  },
  {
   "cell_type": "code",
   "execution_count": 11,
   "metadata": {},
   "outputs": [
    {
     "name": "stdout",
     "output_type": "stream",
     "text": [
      "1\n"
     ]
    }
   ],
   "source": [
    "class A(object):\n",
    "    def __init__(self):\n",
    "        self._var = 0\n",
    "    \n",
    "    @property\n",
    "    def var(self):\n",
    "        return self._var\n",
    "    \n",
    "    @var.setter\n",
    "    def var(self, value):\n",
    "        self._var = value\n",
    "\n",
    "a = A()\n",
    "a.var = 1\n",
    "print(a.var)"
   ]
  },
  {
   "cell_type": "code",
   "execution_count": null,
   "metadata": {},
   "outputs": [],
   "source": []
  }
 ],
 "metadata": {
  "interpreter": {
   "hash": "2f2ab5a16004a9ed2171c4a96a5244028d02bb02c281617d3c2b6db182a5ac0e"
  },
  "kernelspec": {
   "display_name": "Python 3.9.7 64-bit ('pytorch': conda)",
   "language": "python",
   "name": "python3"
  },
  "language_info": {
   "codemirror_mode": {
    "name": "ipython",
    "version": 3
   },
   "file_extension": ".py",
   "mimetype": "text/x-python",
   "name": "python",
   "nbconvert_exporter": "python",
   "pygments_lexer": "ipython3",
   "version": "3.9.7"
  },
  "orig_nbformat": 4
 },
 "nbformat": 4,
 "nbformat_minor": 2
}
