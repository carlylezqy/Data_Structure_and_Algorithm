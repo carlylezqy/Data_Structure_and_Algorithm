{
 "cells": [
  {
   "cell_type": "markdown",
   "metadata": {},
   "source": [
    "python 参数类型：位址参数/关键字参数；可变长参数 *args\n"
   ]
  },
  {
   "cell_type": "code",
   "execution_count": 11,
   "metadata": {},
   "outputs": [
    {
     "name": "stdout",
     "output_type": "stream",
     "text": [
      "(4, 5, 6, 7)\n",
      "(4, 5, 6, 7)\n",
      "{'a': 2, 'b': 3}\n",
      "{'a': 'A', 'b': 'B'}\n"
     ]
    }
   ],
   "source": [
    "#python的可变长参数\n",
    "def foo(x, y, z, *args):\n",
    "    #print(x, y, z) #1 2 3\n",
    "    print(args)\n",
    "\n",
    "foo(1,2,3,4,5,6,7)\n",
    "foo(1,2,3,*[4,5,6,7])\n",
    "\n",
    "#可变长参数2（字典传入）\n",
    "def foo2(x, y, **kwargs):\n",
    "    #print(x, y) #1 2\n",
    "    print(kwargs)\n",
    "\n",
    "foo2(1, 2, **{\"a\":2, \"b\":3})\n",
    "dic = {\"a\":\"A\", \"b\":\"B\"}\n",
    "foo2(1, 2, **dic)"
   ]
  },
  {
   "cell_type": "code",
   "execution_count": 15,
   "metadata": {},
   "outputs": [
    {
     "name": "stdout",
     "output_type": "stream",
     "text": [
      "1\n"
     ]
    }
   ],
   "source": [
    "#全局变量\n",
    "def q():\n",
    "    global z\n",
    "z = 1\n",
    "print(z)"
   ]
  },
  {
   "cell_type": "code",
   "execution_count": 1,
   "metadata": {},
   "outputs": [
    {
     "name": "stdout",
     "output_type": "stream",
     "text": [
      "|00001| |    1|\n",
      "3.142\n"
     ]
    }
   ],
   "source": [
    "print(\"|%05d| |%5d|\" % (1, 1))\n",
    "pi = 3.141592654\n",
    "print(f\"{pi:.3f}\")"
   ]
  },
  {
   "cell_type": "code",
   "execution_count": 26,
   "metadata": {},
   "outputs": [],
   "source": [
    "#Python2.x　切换至 Python3.x\n",
    "#print (.*) to print($1)"
   ]
  }
 ],
 "metadata": {
  "interpreter": {
   "hash": "3ed9488cdb60a513ce8fbb8ee544fd97eca9ebb86b742d44c6f9e481f78c019a"
  },
  "kernelspec": {
   "display_name": "Python 3.9.12 ('pytorch')",
   "language": "python",
   "name": "python3"
  },
  "language_info": {
   "codemirror_mode": {
    "name": "ipython",
    "version": 3
   },
   "file_extension": ".py",
   "mimetype": "text/x-python",
   "name": "python",
   "nbconvert_exporter": "python",
   "pygments_lexer": "ipython3",
   "version": "3.9.12"
  },
  "orig_nbformat": 2
 },
 "nbformat": 4,
 "nbformat_minor": 2
}
