{
 "cells": [
  {
   "cell_type": "code",
   "execution_count": null,
   "metadata": {},
   "outputs": [],
   "source": [
    "#直接赋值(Assignment): 其实就是对象的引用（别名）\n",
    "#浅拷贝(Copy): 拷贝父对象，不会拷贝对象的内部的子对象\n",
    "#深拷贝(Deepcopy): copy 模块的 deepcopy 方法，完全拷贝了父对象及其子对象"
   ]
  },
  {
   "cell_type": "code",
   "execution_count": 2,
   "metadata": {},
   "outputs": [
    {
     "name": "stdout",
     "output_type": "stream",
     "text": [
      "{'Friend': ['Tom', 'Jack', 'Mary', 'Lily'], 'Age': 18}\n"
     ]
    }
   ],
   "source": [
    "#Assignment\n",
    "Dict = {'Friend': [\"Tom\", \"Jack\", \"Mary\"]}\n",
    "Dict1 = Dict\n",
    "Dict[\"Friend\"] = [\"Tom\", \"Jack\", \"Mary\", \"Lily\"]\n",
    "Dict[\"Age\"] = 18\n",
    "print(Dict1)"
   ]
  },
  {
   "cell_type": "code",
   "execution_count": 3,
   "metadata": {},
   "outputs": [
    {
     "name": "stdout",
     "output_type": "stream",
     "text": [
      "{'Friend': ['Tom', 'Jack', 'Mary']}\n"
     ]
    }
   ],
   "source": [
    "#Copy\n",
    "Dict = {'Friend': [\"Tom\", \"Jack\", \"Mary\"]}\n",
    "Dict1 = Dict.copy()\n",
    "Dict[\"Friend\"] = [\"Tom\", \"Jack\", \"Mary\", \"Lily\"]\n",
    "Dict[\"Age\"] = 18\n",
    "print(Dict1)"
   ]
  },
  {
   "cell_type": "code",
   "execution_count": 4,
   "metadata": {},
   "outputs": [
    {
     "name": "stdout",
     "output_type": "stream",
     "text": [
      "{'Friend': ['Tom', 'Jack', 'Mary']}\n"
     ]
    }
   ],
   "source": [
    "#Deepcopy\n",
    "import copy\n",
    "Dict = {'Friend': [\"Tom\", \"Jack\", \"Mary\"]}\n",
    "Dict1 = copy.deepcopy(Dict)\n",
    "Dict[\"Friend\"] = [\"Tom\", \"Jack\", \"Mary\", \"Lily\"]\n",
    "Dict[\"Age\"] = 18\n",
    "print(Dict1)"
   ]
  }
 ],
 "metadata": {
  "kernelspec": {
   "display_name": "experiment",
   "language": "python",
   "name": "python3"
  },
  "language_info": {
   "codemirror_mode": {
    "name": "ipython",
    "version": 3
   },
   "file_extension": ".py",
   "mimetype": "text/x-python",
   "name": "python",
   "nbconvert_exporter": "python",
   "pygments_lexer": "ipython3",
   "version": "3.10.6"
  },
  "orig_nbformat": 4,
  "vscode": {
   "interpreter": {
    "hash": "d01e810490c93ee6313be5edf6d25ff6abc778e7e8daf9a3b0cd603fbe307a47"
   }
  }
 },
 "nbformat": 4,
 "nbformat_minor": 2
}
