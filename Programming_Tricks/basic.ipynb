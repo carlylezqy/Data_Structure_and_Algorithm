{
 "cells": [
  {
   "cell_type": "markdown",
   "metadata": {},
   "source": [
    "python 参数类型：位址参数/关键字参数；可变长参数 *args\n"
   ]
  },
  {
   "cell_type": "code",
   "execution_count": 11,
   "metadata": {},
   "outputs": [
    {
     "name": "stdout",
     "output_type": "stream",
     "text": [
      "(4, 5, 6, 7)\n",
      "(4, 5, 6, 7)\n",
      "{'a': 2, 'b': 3}\n",
      "{'a': 'A', 'b': 'B'}\n"
     ]
    }
   ],
   "source": [
    "#python的可变长参数\n",
    "def foo(x, y, z, *args):\n",
    "    #print(x, y, z) #1 2 3\n",
    "    print(args)\n",
    "\n",
    "foo(1,2,3,4,5,6,7)\n",
    "foo(1,2,3,*[4,5,6,7])\n",
    "\n",
    "#可变长参数2（字典传入）\n",
    "def foo2(x, y, **kwargs):\n",
    "    #print(x, y) #1 2\n",
    "    print(kwargs)\n",
    "\n",
    "foo2(1, 2, **{\"a\":2, \"b\":3})\n",
    "dic = {\"a\":\"A\", \"b\":\"B\"}\n",
    "foo2(1, 2, **dic)"
   ]
  },
  {
   "cell_type": "code",
   "execution_count": 15,
   "metadata": {},
   "outputs": [
    {
     "name": "stdout",
     "output_type": "stream",
     "text": [
      "1\n"
     ]
    }
   ],
   "source": [
    "#全局变量\n",
    "def q():\n",
    "    global z\n",
    "z = 1\n",
    "print(z)"
   ]
  },
  {
   "cell_type": "code",
   "execution_count": 1,
   "metadata": {},
   "outputs": [
    {
     "name": "stdout",
     "output_type": "stream",
     "text": [
      "|00001| |    1|\n",
      "3.142\n"
     ]
    }
   ],
   "source": [
    "print(\"|%05d| |%5d|\" % (1, 1))\n",
    "pi = 3.141592654\n",
    "print(f\"{pi:.3f}\")"
   ]
  },
  {
   "cell_type": "code",
   "execution_count": 26,
   "metadata": {},
   "outputs": [],
   "source": [
    "#Python2.x　切换至 Python3.x\n",
    "#print (.*) to print($1)"
   ]
  },
  {
   "cell_type": "code",
   "execution_count": 27,
   "metadata": {},
   "outputs": [
    {
     "name": "stdout",
     "output_type": "stream",
     "text": [
      "9 2\n",
      "[0, 1, 4, 9, 16, 25, 36, 49, 64, 81]\n"
     ]
    }
   ],
   "source": [
    "g = lambda x : x ** 2\n",
    "f = lambda x, y : x * y\n",
    "print(g(3), f(1, 2))\n",
    "\n",
    "y = [[1, 2, 3], [4, 5, 6]]\n",
    "y2 = list(map(lambda x: x * x, [y for y in range(10)]))\n",
    "print(y2)"
   ]
  },
  {
   "cell_type": "code",
   "execution_count": 34,
   "metadata": {},
   "outputs": [
    {
     "name": "stdout",
     "output_type": "stream",
     "text": [
      "               b         d         e\n",
      "utah   -2.370491 -1.561629  0.138253\n",
      "ohio    1.102252  0.163533  0.558807\n",
      "texas   2.350463  1.880894 -0.506544\n",
      "oregon -0.617422  1.201365 -0.599424\n",
      "b    4.720953\n",
      "d    3.442522\n",
      "e    1.158231\n",
      "dtype: float64\n",
      "utah      2.508744\n",
      "ohio      0.938719\n",
      "texas     2.857006\n",
      "oregon    1.818786\n",
      "dtype: float64\n"
     ]
    }
   ],
   "source": [
    "import numpy as np\n",
    "import pandas as pd\n",
    "df = pd.DataFrame(np.random.randn(4, 3), columns =list('bde'), index=['utah','ohio','texas','oregon'])\n",
    "print(df)\n",
    "\n",
    "operator = lambda x: x.max() - x.min()\n",
    "f = df.apply(operator)\n",
    "f2 = df.apply(operator, axis=1)\n",
    "print(f)\n",
    "print(f2)"
   ]
  },
  {
   "cell_type": "code",
   "execution_count": 29,
   "metadata": {},
   "outputs": [],
   "source": [
    "#metadata_df['label_colored_path'] = metadata_df['label_colored_path'].apply(lambda img_pth: os.path.join(DATA_DIR, img_pth)"
   ]
  }
 ],
 "metadata": {
  "interpreter": {
   "hash": "3ed9488cdb60a513ce8fbb8ee544fd97eca9ebb86b742d44c6f9e481f78c019a"
  },
  "kernelspec": {
   "display_name": "Python 3.9.12 ('pytorch')",
   "language": "python",
   "name": "python3"
  },
  "language_info": {
   "codemirror_mode": {
    "name": "ipython",
    "version": 3
   },
   "file_extension": ".py",
   "mimetype": "text/x-python",
   "name": "python",
   "nbconvert_exporter": "python",
   "pygments_lexer": "ipython3",
   "version": "3.9.12"
  },
  "orig_nbformat": 2
 },
 "nbformat": 4,
 "nbformat_minor": 2
}
