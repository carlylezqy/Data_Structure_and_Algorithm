{
 "cells": [
  {
   "cell_type": "code",
   "execution_count": 1,
   "metadata": {},
   "outputs": [
    {
     "name": "stdout",
     "output_type": "stream",
     "text": [
      "model is to cuda\n",
      "model infomation\n",
      "model2 is to cuda\n",
      "model infomation\n"
     ]
    }
   ],
   "source": [
    "def model():\n",
    "    print(\"model infomation\")\n",
    "\n",
    "def to_cuda(func):\n",
    "    def wrapper(): #包装器\n",
    "        print(f\"{func.__name__} is to cuda\")\n",
    "        return func()\n",
    "\n",
    "    return wrapper\n",
    "\n",
    "@to_cuda\n",
    "def model2():\n",
    "    print(\"model infomation\")\n",
    "\n",
    "model = to_cuda(model)\n",
    "model()\n",
    "model2()"
   ]
  }
 ],
 "metadata": {
  "kernelspec": {
   "display_name": "Python 3.9.12 ('pytorch')",
   "language": "python",
   "name": "python3"
  },
  "language_info": {
   "codemirror_mode": {
    "name": "ipython",
    "version": 3
   },
   "file_extension": ".py",
   "mimetype": "text/x-python",
   "name": "python",
   "nbconvert_exporter": "python",
   "pygments_lexer": "ipython3",
   "version": "3.9.12"
  },
  "orig_nbformat": 4,
  "vscode": {
   "interpreter": {
    "hash": "3ed9488cdb60a513ce8fbb8ee544fd97eca9ebb86b742d44c6f9e481f78c019a"
   }
  }
 },
 "nbformat": 4,
 "nbformat_minor": 2
}
