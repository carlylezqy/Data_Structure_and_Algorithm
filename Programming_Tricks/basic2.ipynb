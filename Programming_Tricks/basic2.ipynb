{
 "metadata": {
  "language_info": {
   "codemirror_mode": {
    "name": "ipython",
    "version": 3
   },
   "file_extension": ".py",
   "mimetype": "text/x-python",
   "name": "python",
   "nbconvert_exporter": "python",
   "pygments_lexer": "ipython3",
   "version": "3.8.5"
  },
  "orig_nbformat": 4,
  "kernelspec": {
   "name": "python3",
   "display_name": "Python 3.8.5 64-bit ('base': conda)"
  },
  "interpreter": {
   "hash": "9b5c03983d0b28456f87fe2f77da0d1102c0a94c6e4d13fb568b4d5350607d3c"
  }
 },
 "nbformat": 4,
 "nbformat_minor": 2,
 "cells": [
  {
   "cell_type": "code",
   "execution_count": 4,
   "metadata": {},
   "outputs": [
    {
     "output_type": "stream",
     "name": "stdout",
     "text": [
      "hellohellohellohellohellohellohellohellohellohellohellohello\n"
     ]
    }
   ],
   "source": [
    "with open(\"1.txt\") as f:\n",
    "    print(f.read())"
   ]
  },
  {
   "source": [
    "|模式|描述|\n",
    "|--|--|\n",
    "|t|文本模式 (默认)|\n",
    "|x|写模式，新建一个文件，如果该文件已存在则会报错。\n",
    "|b|二进制模式。\n",
    "|+|打开一个文件进行更新(可读可写)。\n",
    "|U|通用换行模式（不推荐）。\n",
    "|r|以只读方式打开文件。文件的指针将会放在文件的开头。这是默认模式。\n",
    "|rb|以二进制格式打开一个文件用于只读。文件指针将会放在文件的开头。这是默认模式。一般用于非文本文件如图片等。\n",
    "|r+|打开一个文件用于读写。文件指针将会放在文件的开头。\n",
    "|rb+|以二进制格式打开一个文件用于读写。文件指针将会放在文件的开头。一般用于非文本文件如图片等。\n",
    "|w|打开一个文件只用于写入。如果该文件已存在则打开文件，并从开头开始编辑，即原有内容会被删除。如果该文件不存在，创建新文件。\n",
    "|wb|以二进制格式打开一个文件只用于写入。如果该文件已存在则打开文件，并从开头开始编辑，即原有内容会被删除。如果该文件不存在，创建新文件。一般用于非文本文件如图片等。\n",
    "|w+|打开一个文件用于读写。如果该文件已存在则打开文件，并从开头开始编辑，即原有内容会被删除。如果该文件不存在，创建新文件。\n",
    "|wb+|以二进制格式打开一个文件用于读写。如果该文件已存在则打开文件，并从开头开始编辑，即原有内容会被删除。如果该文件不存在，创建新文件。一般用于非文本文件如图片等。\n",
    "|a|打开一个文件用于追加。如果该文件已存在，文件指针将会放在文件的结尾。也就是说，新的内容将会被写入到已有内容之后。如果该文件不存在，创建新文件进行写入。\n",
    "|ab|以二进制格式打开一个文件用于追加。如果该文件已存在，文件指针将会放在文件的结尾。也就是说，新的内容将会被写入到已有内容之后。如果该文件不存在，创建新文件进行写入。\n",
    "|a+|打开一个文件用于读写。如果该文件已存在，文件指针将会放在文件的结尾。文件打开时会是追加模式。如果该文件不存在，创建新文件用于读写。\n",
    "|ab+|以二进制格式打开一个文件用于追加。如果该文件已存在，文件指针将会放在文件的结尾。如果该文件不存在，创建新文件用于读写。"
   ],
   "cell_type": "markdown",
   "metadata": {}
  },
  {
   "source": [
    "文件比较大时，`read()` 和 `readlines()` 占用内存过大，不建议使用。`readline()`又不方便。\n"
   ],
   "cell_type": "markdown",
   "metadata": {}
  },
  {
   "cell_type": "code",
   "execution_count": 23,
   "metadata": {},
   "outputs": [
    {
     "output_type": "stream",
     "name": "stdout",
     "text": [
      "0\n\n1\n\n2\n\n3\n\n4\n\n5\n\n6\n\n7\n\n8\n\n9\n\n1,0\n\n1,1\n\n1,2\n\n1,3\n\n1,4\n\n1,5\n\n1,6\n\n1,7\n\n1,8\n\n1,9\n\n2,0\n\n2,1\n\n2,2\n\n2,3\n\n2,4\n\n2,5\n\n2,6\n\n2,7\n\n2,8\n\n2,9\n\n3,0\n\n3,1\n\n3,2\n\n3,3\n\n3,4\n\n3,5\n\n3,6\n\n3,7\n\n3,8\n\n3,9\n\n4,0\n\n4,1\n\n4,2\n\n4,3\n\n4,4\n\n4,5\n\n4,6\n\n4,7\n\n4,8\n\n4,9\n\n5,0\n\n5,1\n\n5,2\n\n5,3\n\n5,4\n\n5,5\n\n5,6\n\n5,7\n\n5,8\n\n5,9\n\n6,0\n\n6,1\n\n6,2\n\n6,3\n\n6,4\n\n6,5\n\n6,6\n\n6,7\n\n6,8\n\n6,9\n\n7,0\n\n7,1\n\n7,2\n\n7,3\n\n7,4\n\n7,5\n\n7,6\n\n7,7\n\n7,8\n\n7,9\n\n8,0\n\n8,1\n\n8,2\n\n8,3\n\n8,4\n\n8,5\n\n8,6\n\n8,7\n\n8,8\n\n8,9\n\n9,0\n\n9,1\n\n9,2\n\n9,3\n\n9,4\n\n9,5\n\n9,6\n\n9,7\n\n9,8\n\n9,9\n\n0\n\n1\n\n2\n\n3\n\n4\n\n5\n\n6\n\n7\n\n8\n\n9\n\n1,0\n\n1,1\n\n1,2\n\n1,3\n\n1,4\n\n1,5\n\n1,6\n\n1,7\n\n1,8\n\n1,9\n\n2,0\n\n2,1\n\n2,2\n\n2,3\n\n2,4\n\n2,5\n\n2,6\n\n2,7\n\n2,8\n\n2,9\n\n3,0\n\n3,1\n\n3,2\n\n3,3\n\n3,4\n\n3,5\n\n3,6\n\n3,7\n\n3,8\n\n3,9\n\n4,0\n\n4,1\n\n4,2\n\n4,3\n\n4,4\n\n4,5\n\n4,6\n\n4,7\n\n4,8\n\n4,9\n\n5,0\n\n5,1\n\n5,2\n\n5,3\n\n5,4\n\n5,5\n\n5,6\n\n5,7\n\n5,8\n\n5,9\n\n6,0\n\n6,1\n\n6,2\n\n6,3\n\n6,4\n\n6,5\n\n6,6\n\n6,7\n\n6,8\n\n6,9\n\n7,0\n\n7,1\n\n7,2\n\n7,3\n\n7,4\n\n7,5\n\n7,6\n\n7,7\n\n7,8\n\n7,9\n\n8,0\n\n8,1\n\n8,2\n\n8,3\n\n8,4\n\n8,5\n\n8,6\n\n8,7\n\n8,8\n\n8,9\n\n9,0\n\n9,1\n\n9,2\n\n9,3\n\n9,4\n\n9,5\n\n9,6\n\n9,7\n\n9,8\n\n9,9\n\n"
     ]
    }
   ],
   "source": [
    "with open(\"2.csv\") as f:\n",
    "    for text in f:\n",
    "        print(text)"
   ]
  },
  {
   "cell_type": "code",
   "execution_count": 21,
   "metadata": {},
   "outputs": [],
   "source": [
    "with open(\"1.txt\", \"w\") as f: #覆盖模式\n",
    "    f.write(\"hello\") # [注意]会覆盖原内容"
   ]
  },
  {
   "cell_type": "code",
   "execution_count": 14,
   "metadata": {},
   "outputs": [],
   "source": [
    "with open(\"1.txt\", \"a\") as f: #追加模式\n",
    "    f.write(\"hello\")"
   ]
  },
  {
   "cell_type": "code",
   "execution_count": 19,
   "metadata": {},
   "outputs": [],
   "source": [
    "with open(\"2.csv\", \"a+\") as f:\n",
    "    for line in range(100):\n",
    "        f.write(\",\".join(str(line)) + \"\\n\")"
   ]
  },
  {
   "cell_type": "code",
   "execution_count": null,
   "metadata": {},
   "outputs": [],
   "source": []
  }
 ]
}