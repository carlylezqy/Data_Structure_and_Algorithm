{
 "cells": [
  {
   "cell_type": "code",
   "execution_count": null,
   "metadata": {},
   "outputs": [],
   "source": [
    "# 高效列表(list)赋值法\n",
    "list = [1, 2, 3, 4]\n",
    "start = 0\n",
    "end = len(list) - 1\n",
    "a, b, c = list[start:end]\n",
    "#print(b)"
   ]
  },
  {
   "cell_type": "code",
   "execution_count": 4,
   "metadata": {},
   "outputs": [
    {
     "name": "stdout",
     "output_type": "stream",
     "text": [
      "Spring Winter\n",
      "['Summer', 'Fall', 'Winter']\n"
     ]
    }
   ],
   "source": [
    "# 迭代器对象(イテレータオブジェクト)\n",
    "season = ['Spring', 'Summer', 'Fall', 'Winter']\n",
    "iter_season = iter(season)\n",
    "rev_season = reversed(season)\n",
    "\n",
    "print(next(iter_season), next(rev_season))\n",
    "print(list(iter_season))\n",
    "#print(type(iter_season))\n",
    "#print(type(rev_season))\n",
    "\n",
    "#print(next(iter_season), next(rev_season))\n",
    "for (i, j) in zip(iter_season, rev_season):\n",
    "    #print()\n",
    "    print(i, j)"
   ]
  },
  {
   "cell_type": "code",
   "execution_count": 4,
   "metadata": {},
   "outputs": [
    {
     "name": "stdout",
     "output_type": "stream",
     "text": [
      "1\n",
      "2\n",
      "3\n",
      "4\n",
      "5\n"
     ]
    }
   ],
   "source": [
    "class recode(object):\n",
    "    def __init__(self):\n",
    "        self.tabel = [1, 2, 3, 4, 5]\n",
    "    \n",
    "    def __iter__(self):\n",
    "        yield from self.tabel\n",
    "    \n",
    "    def __next__(self):\n",
    "        return self.tabel.pop(0)\n",
    "\n",
    "recoder = recode()\n",
    "\n",
    "print(next(recoder))\n",
    "for i in recoder:\n",
    "    print(i)"
   ]
  },
  {
   "cell_type": "code",
   "execution_count": 6,
   "metadata": {},
   "outputs": [],
   "source": [
    "list1 = [1, 2, 3, 4, 5]"
   ]
  },
  {
   "cell_type": "code",
   "execution_count": null,
   "metadata": {},
   "outputs": [],
   "source": [
    "import itertools\n",
    "it = itertools.chain(season[:2], season[2:])\n",
    "it2 = itertools.zip_longest([0, 1, 2, 3], season)\n",
    "print(type(it))\n",
    "for (i, j) in zip(it, it2):\n",
    "    print(i, j[1])\n",
    "\n",
    "# About more: https://www.sejuku.net/blog/23570"
   ]
  }
 ],
 "metadata": {
  "interpreter": {
   "hash": "3ed9488cdb60a513ce8fbb8ee544fd97eca9ebb86b742d44c6f9e481f78c019a"
  },
  "kernelspec": {
   "display_name": "Python 3.9.12 ('pytorch')",
   "language": "python",
   "name": "python3"
  },
  "language_info": {
   "codemirror_mode": {
    "name": "ipython",
    "version": 3
   },
   "file_extension": ".py",
   "mimetype": "text/x-python",
   "name": "python",
   "nbconvert_exporter": "python",
   "pygments_lexer": "ipython3",
   "version": "3.9.12"
  },
  "orig_nbformat": 2
 },
 "nbformat": 4,
 "nbformat_minor": 2
}
