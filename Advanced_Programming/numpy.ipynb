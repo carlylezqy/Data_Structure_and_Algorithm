{
 "metadata": {
  "language_info": {
   "codemirror_mode": {
    "name": "ipython",
    "version": 3
   },
   "file_extension": ".py",
   "mimetype": "text/x-python",
   "name": "python",
   "nbconvert_exporter": "python",
   "pygments_lexer": "ipython3",
   "version": "3.8.5"
  },
  "orig_nbformat": 2,
  "kernelspec": {
   "name": "python385jvsc74a57bd09b5c03983d0b28456f87fe2f77da0d1102c0a94c6e4d13fb568b4d5350607d3c",
   "display_name": "Python 3.8.5 64-bit ('base': conda)"
  }
 },
 "nbformat": 4,
 "nbformat_minor": 2,
 "cells": [
  {
   "cell_type": "code",
   "execution_count": 1,
   "metadata": {},
   "outputs": [
    {
     "output_type": "stream",
     "name": "stdout",
     "text": [
      "True\n"
     ]
    }
   ],
   "source": [
    "import numpy as np\n",
    "print(~np.array(False))"
   ]
  },
  {
   "cell_type": "code",
   "execution_count": 1,
   "metadata": {},
   "outputs": [
    {
     "output_type": "stream",
     "name": "stdout",
     "text": [
      "[[ 0  0  0 ...  0  0  0]\n [ 1  1  1 ...  1  1  1]\n [ 2  2  2 ...  2  2  2]\n ...\n [97 97 97 ... 97 97 97]\n [98 98 98 ... 98 98 98]\n [99 99 99 ... 99 99 99]]\n"
     ]
    }
   ],
   "source": [
    "# 快速创建指定大小的递进矩阵\n",
    "import numpy as np\n",
    "\n",
    "aH = 100\n",
    "aW = 100\n",
    "y = np.arange(aH).repeat(aW).reshape(aW, -1)\n",
    "print(y)"
   ]
  },
  {
   "cell_type": "code",
   "execution_count": 2,
   "metadata": {},
   "outputs": [
    {
     "output_type": "stream",
     "name": "stdout",
     "text": [
      "[1 2]\n"
     ]
    }
   ],
   "source": [
    "# 矩阵运算\n",
    "a = np.array([1, 2, 3, 2, 4, 1])\n",
    "b = np.array([3, 4, 5, 6])\n",
    "print(np.setdiff1d(a, b))"
   ]
  },
  {
   "cell_type": "code",
   "execution_count": 1,
   "metadata": {},
   "outputs": [
    {
     "output_type": "execute_result",
     "data": {
      "text/plain": [
       "True"
      ]
     },
     "metadata": {},
     "execution_count": 1
    }
   ],
   "source": [
    "#Truth value testing\n",
    "#all(a[, axis, out, keepdims, where])\n",
    "#any(a[, axis, out, keepdims, where]"
   ]
  },
  {
   "cell_type": "code",
   "execution_count": 5,
   "metadata": {},
   "outputs": [
    {
     "output_type": "stream",
     "name": "stdout",
     "text": [
      "0\n"
     ]
    }
   ],
   "source": [
    "import numpy as np\n",
    "\n",
    "np.logical_xor(1,0)\n",
    "print(0 and 1)"
   ]
  },
  {
   "cell_type": "code",
   "execution_count": 6,
   "metadata": {},
   "outputs": [
    {
     "output_type": "execute_result",
     "data": {
      "text/plain": [
       "array([[1., 0., 0.],\n",
       "       [0., 1., 0.],\n",
       "       [0., 0., 1.]])"
      ]
     },
     "metadata": {},
     "execution_count": 6
    }
   ],
   "source": [
    "np.identity(3)"
   ]
  },
  {
   "cell_type": "code",
   "execution_count": 15,
   "metadata": {},
   "outputs": [
    {
     "output_type": "stream",
     "name": "stdout",
     "text": [
      "[[1. 0. 0. 0.]\n [0. 1. 0. 0.]\n [0. 0. 1. 0.]\n [0. 0. 0. 1.]]\n[[0. 0. 0. 0.]\n [0. 0. 0. 0.]\n [1. 0. 0. 0.]\n [0. 1. 0. 0.]]\n[[0. 1. 0. 0.]\n [0. 0. 1. 0.]\n [1. 0. 0. 0.]\n [0. 1. 0. 0.]]\n"
     ]
    }
   ],
   "source": [
    "import numpy as np\n",
    "a = np.eye(4)\n",
    "b = np.eye(4, k=-2)\n",
    "print(a)\n",
    "print(b)"
   ]
  },
  {
   "cell_type": "code",
   "execution_count": 16,
   "metadata": {},
   "outputs": [
    {
     "output_type": "stream",
     "name": "stdout",
     "text": [
      "[[0. 1. 0. 0.]\n [0. 0. 1. 0.]\n [1. 0. 0. 0.]\n [0. 1. 0. 0.]]\n"
     ]
    }
   ],
   "source": [
    "#高阶用法\n",
    "labels = np.array([[1], [2], [0], [1]])\n",
    "res = np.eye(len(labels-1))[labels.reshape(-1)]\n",
    "print(res)"
   ]
  },
  {
   "cell_type": "code",
   "execution_count": 21,
   "metadata": {},
   "outputs": [
    {
     "output_type": "stream",
     "name": "stdout",
     "text": [
      "[2. 3.]\n"
     ]
    },
    {
     "output_type": "execute_result",
     "data": {
      "text/plain": [
       "'\\n3x_0 + x_1 = 9\\nx_0 + 2x_1 = 8\\n'"
      ]
     },
     "metadata": {},
     "execution_count": 21
    }
   ],
   "source": [
    "A = np.array([[3, 1], [1, 2]])\n",
    "y = np.array([9, 8])\n",
    "x = np.linalg.solve(A, y)\n",
    "print(x)\n",
    "\n",
    "'''\n",
    "3x_0 + x_1 = 9\n",
    "x_0 + 2x_1 = 8\n",
    "'''"
   ]
  },
  {
   "cell_type": "code",
   "execution_count": 22,
   "metadata": {},
   "outputs": [
    {
     "output_type": "stream",
     "name": "stdout",
     "text": [
      "True\n"
     ]
    }
   ],
   "source": [
    "print(np.allclose(np.dot(A, x), y))"
   ]
  },
  {
   "cell_type": "code",
   "execution_count": 14,
   "metadata": {},
   "outputs": [
    {
     "output_type": "stream",
     "name": "stdout",
     "text": [
      "[[ True  True]\n [False  True]]\n[ True False]\n"
     ]
    }
   ],
   "source": [
    "x = np.array([[3, 1], [1, 2]])\n",
    "y = np.array([[3, 1], [2, 2]])\n",
    "a = np.equal(x, y)\n",
    "print(a)\n",
    "b = np.all(a, axis=-1)\n",
    "print(b)"
   ]
  },
  {
   "cell_type": "code",
   "execution_count": 13,
   "metadata": {},
   "outputs": [
    {
     "output_type": "stream",
     "name": "stdout",
     "text": [
      "[[1, 2, 3, 4, 5], [1, 2, 3, 4, 5], [1, 2, 3, 4, 5], [1, 2, 3, 4, 5], [1, 2, 3, 4, 5]]\n[[1 1 1 1 1]\n [2 2 2 2 2]\n [3 3 3 3 3]\n [4 4 4 4 4]\n [5 5 5 5 5]]\n"
     ]
    }
   ],
   "source": [
    "l = [[1, 2, 3, 4, 5], [1, 2, 3, 4, 5], [1, 2, 3, 4, 5], [1, 2, 3, 4, 5], [1, 2, 3, 4, 5]]\n",
    "print(l)\n",
    "l = np.stack(l, axis=-1)\n",
    "print(l)"
   ]
  },
  {
   "cell_type": "code",
   "execution_count": null,
   "metadata": {},
   "outputs": [],
   "source": []
  }
 ]
}