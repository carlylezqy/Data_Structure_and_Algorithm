{
 "metadata": {
  "language_info": {
   "codemirror_mode": {
    "name": "ipython",
    "version": 3
   },
   "file_extension": ".py",
   "mimetype": "text/x-python",
   "name": "python",
   "nbconvert_exporter": "python",
   "pygments_lexer": "ipython3",
   "version": 3
  },
  "orig_nbformat": 2
 },
 "nbformat": 4,
 "nbformat_minor": 2,
 "cells": [
  {
   "cell_type": "code",
   "execution_count": null,
   "metadata": {},
   "outputs": [],
   "source": [
    "# 高效列表(list)赋值法\n",
    "list = [1, 2, 3, 4]\n",
    "start = 0\n",
    "end = len(list) - 1\n",
    "a, b, c = list[start:end]\n",
    "#print(b)"
   ]
  },
  {
   "cell_type": "code",
   "execution_count": null,
   "metadata": {},
   "outputs": [],
   "source": [
    "# 迭代器对象(イテレータオブジェクト)\n",
    "season = ['Spring', 'Summer', 'Fall', 'Winter']\n",
    "iter_season = iter(season)\n",
    "rev_season = reversed(season)\n",
    "\n",
    "#print(type(iter_season))\n",
    "#print(type(rev_season))\n",
    "\n",
    "#print(next(iter_season), next(rev_season))\n",
    "for (i,j) in zip(iter_season, rev_season):\n",
    "    print()\n",
    "    #print(i, j)\n",
    "\n",
    "import itertools\n",
    "it = itertools.chain(season[:2], season[2:])\n",
    "it2 = itertools.zip_longest([0, 1, 2, 3], season)\n",
    "print(type(it))\n",
    "for (i, j) in zip(it, it2):\n",
    "    print(i, j[1])\n",
    "\n",
    "# About more: https://www.sejuku.net/blog/23570"
   ]
  },
  {
   "cell_type": "code",
   "execution_count": null,
   "metadata": {},
   "outputs": [],
   "source": []
  }
 ]
}